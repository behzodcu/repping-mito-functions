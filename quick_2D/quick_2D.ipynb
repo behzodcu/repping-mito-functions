{
  "cells": [
    {
      "cell_type": "code",
      "execution_count": 44,
      "metadata": {
        "colab": {
          "base_uri": "https://localhost:8080/",
          "height": 324
        },
        "id": "HnvLhCx6D7Hi",
        "outputId": "1e54d266-a6da-4f05-82c4-b73b55b40295"
      },
      "outputs": [],
      "source": [
        "import numpy as np\n",
        "import matplotlib.pyplot as plt\n",
        "import imageio"
      ]
    },
    {
      "cell_type": "code",
      "execution_count": 45,
      "metadata": {},
      "outputs": [],
      "source": [
        "class cell():\n",
        "    def mito(self):\n",
        "        N = 20\n",
        "        frames = 240\n",
        "        limit = 100 \n",
        "        L  = limit*2\n",
        "        P = 10 \n",
        "        V = 10 \n",
        "        delta = 1 \n",
        "        c1 = 0.001\n",
        "        c2 = 0.125\n",
        "        c3 = 0 \n",
        "        c4 = 0.2 \n",
        "        vlimit = 1 \n",
        "        filenames = []\n",
        "\n",
        "        p = P*np.random.randn(2,N)\n",
        "        v = V*np.random.randn(2,N)\n",
        "        \n",
        "        plt.ion()\n",
        "        fig = plt.figure(figsize=(10,5))\n",
        "        ax = fig.add_subplot(111)\n",
        "\n",
        "        for i in range(frames):\n",
        "            v1 = np.zeros((2,N+2))\n",
        "            v2 = np.zeros((2,N+2))                 \n",
        "            v3 = ( (np.sum(v[0,:])/(N) ) + (np.sum(v[1,:])/(N)) ) * c3;  \n",
        "            v4 = np.zeros((2,N))\n",
        "            \n",
        "            if (np.linalg.norm(v3) > vlimit):\n",
        "                v3 *= vlimit / np.linalg.norm(v3)\n",
        "            for n in range(N):\n",
        "                for m in range(N):\n",
        "                    if m!=n:\n",
        "                        r = p[:,m] - p[:,n] \n",
        "                        if r[0] > L/2:\n",
        "                            r[0] -= L\n",
        "                        elif r[0] < -L/2:\n",
        "                            r[0] += L\n",
        "                        if r[1] > L/2:\n",
        "                            r[1] -= L\n",
        "                        elif r[1] < -L/2:\n",
        "                            r[1] += L\n",
        "                        rmag = np.sqrt( r[0]**2  + r[1]**2 )\n",
        "                        v1[:,n] += c1*r \n",
        "                        v2[:,n] -= (c2 * r) / (rmag**2)     \n",
        "                v4[:,n] = c4 * np.random.randn(2)               \n",
        "                v[:,n] = v1[:,n] + v2[:,n] + v3 + v4[:,n]\n",
        "            for n in range(0, N):    \n",
        "                p[:,n] +=  v[:,n] * delta \n",
        "            tmp_p = p\n",
        "            tmp_p[0, p[0,:] >  L/2]  = tmp_p[0,p[0,:]> (L/2)] - L\n",
        "            tmp_p[1, p[1,:] >  L/2]  = tmp_p[1, p[1,:] > (L/2)] - L\n",
        "            tmp_p[0, p[0,:] < -L/2]  = tmp_p[0, p[0,:] < (-L/2)] + L\n",
        "            tmp_p[1, p[1,:] < -L/2]  = tmp_p[1, p[1,:] < (-L/2)] + L\n",
        "            p = tmp_p\n",
        "            colors = \"orange\"\n",
        "            ax.clear()\n",
        "            ax.scatter(p[0,:], p[1,:], c=colors, alpha=1)\n",
        "            plt.xlim(-limit, limit)\n",
        "            plt.ylim(-limit, limit)\n",
        "            fig.canvas.draw()\n",
        "\n",
        "            plt.savefig('frames/frame' + str(i) +'.png')\n",
        "            filenames.append('frames/frame' + str(i) + '.jpg')\n",
        "            plt.savefig(filenames[i])\n",
        "        images = []\n",
        "        for filename in filenames:\n",
        "           images.append(imageio.imread(filename))\n",
        "        imageio.mimsave('2D_sim.gif',images)            "
      ]
    },
    {
      "cell_type": "code",
      "execution_count": 46,
      "metadata": {},
      "outputs": [
        {
          "data": {
            "image/png": "[encoded data removed]",
            "text/plain": [
              "<Figure size 720x360 with 1 Axes>"
            ]
          },
          "metadata": {
            "needs_background": "light"
          },
          "output_type": "display_data"
        }
      ],
      "source": [
        "cell_py = cell()\n",
        "cell_py.mito()"
      ]
    }
  ],
  "metadata": {
    "colab": {
      "name": "repping-mito-project.ipynb",
      "provenance": []
    },
    "kernelspec": {
      "display_name": "Python 3",
      "name": "python3"
    },
    "language_info": {
      "codemirror_mode": {
        "name": "ipython",
        "version": 3
      },
      "file_extension": ".py",
      "mimetype": "text/x-python",
      "name": "python",
      "nbconvert_exporter": "python",
      "pygments_lexer": "ipython3",
      "version": "3.8.8"
    }
  },
  "nbformat": 4,
  "nbformat_minor": 0
}
